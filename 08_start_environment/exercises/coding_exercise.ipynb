{
 "cells": [
  {
   "cell_type": "markdown",
   "id": "1694edaf-0c13-4f1a-a6f7-f4c0ce1a3d7f",
   "metadata": {},
   "source": [
    "# Setting up the `BipedalWalker-v3` environment\n",
    "\n",
    "The `gym` environment `BipedalWalker-v3` simulates a bipedal robot standing on an uneven surface. The goal is to teach the robot how to walk.\n",
    "\n",
    "![BipedalWalker-v3](bw.png)\n",
    "\n",
    "In the previous lesson, I showed you how to set up the `CartPole-v1` environment. Now, you are going to follow the same steps to set up the `BipedalWalker-v3` environment.\n",
    "\n",
    "Ready? Let's go!"
   ]
  },
  {
   "cell_type": "code",
   "execution_count": null,
   "id": "52b28f1c-8a2b-4b60-91bb-1f27b75922ca",
   "metadata": {},
   "outputs": [],
   "source": "import gym  "
  },
  {
   "cell_type": "code",
   "execution_count": null,
   "id": "456e44d5-9eeb-4352-9944-2b2942393662",
   "metadata": {
    "tags": []
   },
   "outputs": [],
   "source": "env = gym.make(\"CartPole-v1\")"
  },
  {
   "cell_type": "code",
   "execution_count": null,
   "id": "62796e77-aa14-4a1f-b065-e053576e5f71",
   "metadata": {},
   "outputs": [],
   "source": "env.reset()"
  },
  {
   "cell_type": "code",
   "execution_count": null,
   "id": "cf023a2a-04d2-47a1-964f-aa32ce42e0d2",
   "metadata": {
    "tags": []
   },
   "outputs": [],
   "source": "env.render(\"rgb_array\")"
  },
  {
   "cell_type": "markdown",
   "id": "c7d558d7-715a-4340-83b6-65b01d3ae6cb",
   "metadata": {},
   "source": [
    "Do you see a pop-up window showing a bipedal robot standing on an grassy surface? If yes, then congratulations! You have successfully set up and started the `BipedalWalker-v3` environment. \n",
    "\n",
    "You can close the window by calling `env.close()`.\n",
    "\n",
    "If you are feeling brave, you can try setting up and visualizing other environments in the [Box2D](https://www.gymlibrary.ml/environments/box2d/) and [Classic Control](https://www.gymlibrary.ml/environments/classic_control/) sections."
   ]
  }
 ],
 "metadata": {
  "kernelspec": {
   "display_name": "Python 3 (ipykernel)",
   "language": "python",
   "name": "python3"
  },
  "language_info": {
   "codemirror_mode": {
    "name": "ipython",
    "version": 3
   },
   "file_extension": ".py",
   "mimetype": "text/x-python",
   "name": "python",
   "nbconvert_exporter": "python",
   "pygments_lexer": "ipython3",
   "version": "3.9.9"
  }
 },
 "nbformat": 4,
 "nbformat_minor": 5
}
