{
 "cells": [
  {
   "cell_type": "markdown",
   "id": "1607110b-ade1-4493-866b-965b4ea9d555",
   "metadata": {},
   "source": [
    "# Observation"
   ]
  },
  {
   "cell_type": "code",
   "execution_count": 1,
   "id": "8111ede5-6742-4c19-b0b4-998dbb8c1656",
   "metadata": {},
   "outputs": [
    {
     "data": {
      "text/plain": [
       "array([-0.02735571,  0.0346885 ,  0.01914174,  0.03447616])"
      ]
     },
     "execution_count": 1,
     "metadata": {},
     "output_type": "execute_result"
    }
   ],
   "source": [
    "import gym\n",
    "env = gym.make(\"CartPole-v1\")\n",
    "env.reset()"
   ]
  },
  {
   "cell_type": "markdown",
   "id": "3f0ce9d6-8bf5-47ab-88d7-beca5a9372d0",
   "metadata": {},
   "source": [
    "<img src=\"images/api.png\" width=\"500\"/>\n",
    "\n",
    "- Describes the state of the environment at initial conditions\n",
    "- An alternate simpler version of the visual representation returned `env.render()`"
   ]
  },
  {
   "cell_type": "code",
   "execution_count": 2,
   "id": "a4d94bb5-b866-4c47-b23e-3dc68bff7671",
   "metadata": {},
   "outputs": [
    {
     "data": {
      "text/plain": [
       "True"
      ]
     },
     "execution_count": 2,
     "metadata": {},
     "output_type": "execute_result"
    }
   ],
   "source": [
    "env.render()"
   ]
  },
  {
   "cell_type": "markdown",
   "id": "3db39106-915f-475c-86b3-b14d70dad894",
   "metadata": {},
   "source": [
    "- Called the \"observation\""
   ]
  },
  {
   "cell_type": "code",
   "execution_count": 4,
   "id": "d9962e04-7f35-4e0c-a11d-b7b168e87bbe",
   "metadata": {},
   "outputs": [
    {
     "name": "stdout",
     "output_type": "stream",
     "text": [
      "[ 0.01114584 -0.02973422 -0.02020519 -0.0089537 ]\n"
     ]
    }
   ],
   "source": [
    "obs = env.reset()\n",
    "print(obs)"
   ]
  },
  {
   "cell_type": "markdown",
   "id": "342825a8-06cb-4b8b-97cd-32d146994666",
   "metadata": {},
   "source": [
    "## General nature of the observation\n",
    "\n",
    "1. **Continuous** or **discrete**?\n",
    "2. **Scalar**, **vector** or **tensor**?\n",
    "3. **Range** of the elements?\n",
    "4. **Python datatype** of elements?"
   ]
  },
  {
   "cell_type": "markdown",
   "id": "871dc41c-5008-43e6-a90f-ffbccc79f279",
   "metadata": {},
   "source": [
    "### `env.observation_space` answers the above questions"
   ]
  },
  {
   "cell_type": "code",
   "execution_count": 5,
   "id": "2c18b891-2809-40fb-bfbf-289ebdca8314",
   "metadata": {},
   "outputs": [
    {
     "data": {
      "text/plain": [
       "Box([-4.8000002e+00 -3.4028235e+38 -4.1887903e-01 -3.4028235e+38], [4.8000002e+00 3.4028235e+38 4.1887903e-01 3.4028235e+38], (4,), float32)"
      ]
     },
     "execution_count": 5,
     "metadata": {},
     "output_type": "execute_result"
    }
   ],
   "source": [
    "env.observation_space"
   ]
  },
  {
   "cell_type": "markdown",
   "id": "b0b391d6-cc18-4b52-97de-c569aab5dd6f",
   "metadata": {},
   "source": [
    "- `Box`: `gym` data type describing `numpy` arrays with elements taking values continuously in a range.\n",
    "\n",
    "| Question | Answer |\n",
    "| --- | --- |\n",
    "| continous or discrete? | `Box` $\\implies$ continuous |\n",
    "| scalar, vector or tensor? | `(4,)` $\\implies$ vector with 4 dimensions |\n",
    "| range of elements | lower range: `[-4.8000002e+00 -3.4028235e+38 -4.1887903e-01 -3.4028235e+38]` and upper range: `[4.8000002e+00 3.4028235e+38 4.1887903e-01 3.4028235e+38]` |\n",
    "| python datatype of elements? | `np.float32` |"
   ]
  },
  {
   "cell_type": "markdown",
   "id": "8b5a7d8b-70cb-4c0b-8d34-ba9033fe6cbe",
   "metadata": {},
   "source": [
    "## Meaning of the observation elements"
   ]
  },
  {
   "cell_type": "markdown",
   "id": "d3e6d87f-57ea-46d5-a437-a379f5760934",
   "metadata": {},
   "source": [
    "### Four possible location for documentation\n",
    "\n",
    "1. [Environment page in Gym's website](https://gym.openai.com/envs/CartPole-v1)\n",
    "    - This has been replaced by the [new documentation site](https://www.gymlibrary.ml/environments/classic_control/cart_pole/)\n",
    "2. [Wiki in Gym's GitHub repo](https://github.com/openai/gym/wiki/CartPole-v0)\n",
    "    - This is now old and probably unmaintained. The latest information is [here]( https://www.gymlibrary.ml/environments/classic_control/cart_pole/)\n",
    "3. [Environment source code](https://github.com/openai/gym/blob/master/gym/envs/classic_control/cartpole.py)\n",
    "4. [Research paper linked in the environment page in Gym's website](https://gym.openai.com/envs/CartPole-v1/#barto83)\n",
    "    - This has been replaced by https://www.gymlibrary.ml/environments/classic_control/cart_pole/#description"
   ]
  },
  {
   "cell_type": "markdown",
   "id": "ade91a71-cfab-4933-b790-05bc430a7922",
   "metadata": {},
   "source": [
    "<img src=\"images/elements.png\" width=\"750\"/>\n",
    "<img src=\"images/backup_diagram.png\" width=\"750\"/>"
   ]
  },
  {
   "cell_type": "code",
   "execution_count": null,
   "id": "e83175de-de57-44e7-8cf8-8ced4fc3ff87",
   "metadata": {},
   "outputs": [],
   "source": []
  }
 ],
 "metadata": {
  "kernelspec": {
   "display_name": "Python 3 (ipykernel)",
   "language": "python",
   "name": "python3"
  },
  "language_info": {
   "codemirror_mode": {
    "name": "ipython",
    "version": 3
   },
   "file_extension": ".py",
   "mimetype": "text/x-python",
   "name": "python",
   "nbconvert_exporter": "python",
   "pygments_lexer": "ipython3",
   "version": "3.9.9"
  }
 },
 "nbformat": 4,
 "nbformat_minor": 5
}
