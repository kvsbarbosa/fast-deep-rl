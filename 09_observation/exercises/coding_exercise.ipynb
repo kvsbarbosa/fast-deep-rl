{
 "cells": [
  {
   "cell_type": "markdown",
   "id": "b509e60b-caca-4e02-9da8-3d5d56351ed4",
   "metadata": {},
   "source": [
    "# Interpret the observation space of the `BipedalWalker-v3` environment\n",
    "\n",
    "In the last coding exercise, you set up the `BipedalWalker-v3` environment and visualized the initial state of the environment. It looked like this.\n",
    "\n",
    "![BipedalWalker-v3](bw.png)\n",
    "\n",
    "This is the human view of the environment. However, the observation returned by `gym` (the agent's view) is much simpler than the human view. \n",
    "\n",
    "But what exactly is its nature? Is it continuous/discrete? What's the size?\n",
    "\n",
    "Try to find that out based on the `observation_space` attribute of the environment. "
   ]
  },
  {
   "cell_type": "code",
   "execution_count": null,
   "id": "46922b8d-412f-42d4-9c7f-47066c2dc0a0",
   "metadata": {},
   "outputs": [],
   "source": [
    "# Run this cell first\n",
    "import gym\n",
    "\n",
    "env = gym.make(\"BipedalWalker-v3\")\n",
    "obs = env.reset()"
   ]
  },
  {
   "cell_type": "code",
   "execution_count": null,
   "id": "f4d1ddd3-3b2a-4a72-9a71-0280a4760820",
   "metadata": {},
   "outputs": [],
   "source": [
    "# Print out the observation space"
   ]
  },
  {
   "cell_type": "markdown",
   "id": "1c39bdfd-29c6-4c4d-99b2-3f7626e2cbf2",
   "metadata": {},
   "source": [
    "## Fill in the blanks\n",
    "\n",
    "1. Based on the observation space, I predict that `obs` is an array containing ____ elements. (fill in with a number)\n",
    "2. Based on the `gym` data type of the observation space, I predict that the observation elements takes ____ values. (choose either \"continuous\" or \"discrete\").\n",
    "3. I predict that the elements in `obs` are of type ____. (fill in with a datatype)"
   ]
  },
  {
   "cell_type": "code",
   "execution_count": 1,
   "id": "146bec08-9533-4b9c-8b00-1d9d27772357",
   "metadata": {},
   "outputs": [],
   "source": [
    "# Print out observation and check if your prediction was correct"
   ]
  },
  {
   "cell_type": "markdown",
   "id": "06b78d59-eacd-430b-977e-1cebf182556b",
   "metadata": {},
   "source": [
    "If your prediction was correct, then congratulations! You can read and interpret the observation space correctly. \n",
    "\n",
    "The `observation_space` attribute is (among other things) useful for automatically adjusting input size of neural networks in Deep RL algorithms."
   ]
  }
 ],
 "metadata": {
  "kernelspec": {
   "display_name": "Python 3 (ipykernel)",
   "language": "python",
   "name": "python3"
  },
  "language_info": {
   "codemirror_mode": {
    "name": "ipython",
    "version": 3
   },
   "file_extension": ".py",
   "mimetype": "text/x-python",
   "name": "python",
   "nbconvert_exporter": "python",
   "pygments_lexer": "ipython3",
   "version": "3.9.9"
  }
 },
 "nbformat": 4,
 "nbformat_minor": 5
}
