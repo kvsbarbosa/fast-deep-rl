{
 "cells": [
  {
   "cell_type": "markdown",
   "id": "cbce78c8-f9e1-49e3-b585-c28b65e7a214",
   "metadata": {},
   "source": [
    "# Reward for falling down in `BipedalWalker-v3`\n",
    "\n",
    "The goal in `BipedalWalker-v3` is for the **robot to walk forward efficiently**. `gym` has engineered a reward function such that the maximization of the cumulative reward is equivalent to reaching this real world goal.\n",
    "\n",
    "The reward function is explained in the `BipedalWalker` class' docstring in the [source code](https://github.com/openai/gym/blob/master/gym/envs/box2d/bipedal_walker.py). The rewards after each step are calculated by adding the following.\n",
    "\n",
    "- Rewards proportional to the displacement of the robot in the step (this rewards forward movement)\n",
    "- Small negative rewards proportional to motor torque applied in the step (more motor torque = less efficient)\n",
    "- Big negative reward -100 if the robot is lying down on the ground at the end of the step (punishes non-walking states e.g. lying down, crawling etc.). In this happens, the displacement related reward or the motor torque related reward do not apply for this step.\n",
    "\n",
    "You can convince yourself that maximizing the cumulative reward would be equivalent to the robot walking forward efficiently.\n",
    "\n",
    "In this exercise, we are going to check if the robot really gets a reward of -100 when it falls down."
   ]
  },
  {
   "cell_type": "code",
   "execution_count": null,
   "id": "ca040f64-26b2-4fa1-b385-742afff7c8c7",
   "metadata": {},
   "outputs": [],
   "source": [
    "# Fill in the blanks and run the cell\n",
    "import gym\n",
    "import numpy as np\n",
    "\n",
    "env = gym.make(\"BipedalWalker-v3\")\n",
    "obs = env.reset()\n",
    "for _ in range(200):\n",
    "    ____, ____, ____, ____ = ____    # Take the action [1., 0., 1., 0.] and store the stepwise reward\n",
    "    print(____)    # Print the reward\n",
    "    env.render()\n",
    "env.close()    "
   ]
  },
  {
   "cell_type": "markdown",
   "id": "25694b3c-3e56-45fb-82b4-55e42f0e1966",
   "metadata": {},
   "source": [
    "When you run the cell, you should see the robot fall down after a while in the graphical window. It looks kind of funny actually.\n",
    "\n",
    "The printed rewards should reflect that the robot has fallen down. \n",
    "\n",
    "When the robot was still upright, it didn't make much forward progress but was spending motor torque. So it should mostly get small negative rewards in this phase.\n",
    "\n",
    "After it falls down, it should receive -100 for every step that it's lying down.\n",
    "\n",
    "Check if the printed rewards change from small (usually negative) values to -100 at some point. \n",
    "\n",
    "If so, hurray! You have verified that the stepwise reward when the robot is lying on the ground is -100. "
   ]
  }
 ],
 "metadata": {
  "kernelspec": {
   "display_name": "Python 3 (ipykernel)",
   "language": "python",
   "name": "python3"
  },
  "language_info": {
   "codemirror_mode": {
    "name": "ipython",
    "version": 3
   },
   "file_extension": ".py",
   "mimetype": "text/x-python",
   "name": "python",
   "nbconvert_exporter": "python",
   "pygments_lexer": "ipython3",
   "version": "3.9.9"
  }
 },
 "nbformat": 4,
 "nbformat_minor": 5
}
