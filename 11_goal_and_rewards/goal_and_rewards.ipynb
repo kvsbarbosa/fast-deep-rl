{
 "cells": [
  {
   "cell_type": "code",
   "execution_count": 1,
   "id": "19bc8036-7bf7-4e71-8593-61aee06e4fda",
   "metadata": {
    "tags": []
   },
   "outputs": [
    {
     "name": "stdout",
     "output_type": "stream",
     "text": [
      "[-0.0247882   0.04667496 -0.0186847  -0.02538045]\n"
     ]
    }
   ],
   "source": [
    "import gym\n",
    "\n",
    "env = gym.make(\"CartPole-v1\")\n",
    "obs = env.reset()\n",
    "print(obs)    # print out initial observation"
   ]
  },
  {
   "cell_type": "code",
   "execution_count": 2,
   "id": "91e90e33-b42f-49d2-bce4-3f97f5c3348a",
   "metadata": {},
   "outputs": [
    {
     "name": "stdout",
     "output_type": "stream",
     "text": [
      "[-0.0238547  -0.14817412 -0.01919231  0.26134918]\n"
     ]
    }
   ],
   "source": [
    "obs, _ , _ , _ = env.step(0)    # taking an action\n",
    "print(obs)                      # print out next observation"
   ]
  },
  {
   "cell_type": "markdown",
   "id": "4e9b9f80-4c66-46b1-abd7-41eb004229b5",
   "metadata": {},
   "source": [
    "# Learning Goal\n",
    "\n",
    "## The learning goal in the `CartPole-v1` environment\n",
    "\n",
    "<img src=\"images/cartpole/cartpole.png\" width=\"700\"></img>\n",
    "\n",
    "## We have to engineer a reward such that the following holds.\n",
    "\n",
    "<center><h3>maximization of cumulative reward $\\equiv$ real world outcome</h3></center>\n",
    "\n",
    "## What does \"pole staying upright\" mean?\n",
    "\n",
    "- Pole must stay between $\\pm 12^{\\circ}$ from the vertical\n",
    "<img src=\"images/upright/1.png\" width=\"650\"></img>\n",
    "\n",
    "- Pole must stay between environment bounds ($\\pm 2.4$)\n",
    "<img src=\"images/upright/2.png\" width=\"650\"></img>\n",
    "\n",
    "## The reward function\n",
    "\n",
    "<img src=\"images/reward_examples/2.png\" width=\"400\"></img>\n",
    "<img src=\"images/reward_examples/3.png\" width=\"400\"></img>\n",
    "\n",
    "- Maximizing the cumulative reward is equivalent to maximizing the number of steps the pole stays upright.\n",
    "- $\\textrm{duration} = 0.02\\textrm{s} \\times \\textrm{num steps}$\n",
    "- Maximizing the cumulative reward is equivalent to maximizing the duration the pole stays upright.\n",
    "\n",
    "<img src=\"images/cartpole/2.png\" width=\"700\"></img>\n",
    "\n",
    "## Rewards in `gym`\n",
    "\n",
    "<img src=\"images/api/1.png\" width=\"500\"></img>"
   ]
  },
  {
   "cell_type": "markdown",
   "id": "ec3c35ca-4a7b-4b2d-895f-ab6e5b89a14c",
   "metadata": {},
   "source": [
    "## The second element of the return value of `env.step(action)` is the reward"
   ]
  },
  {
   "cell_type": "code",
   "execution_count": 4,
   "id": "2683efe2-9042-4098-8bcc-f832ef486e20",
   "metadata": {},
   "outputs": [
    {
     "name": "stdout",
     "output_type": "stream",
     "text": [
      "[-0.03367853 -0.53793993 -0.00300698  0.83616768]\n",
      "1.0\n"
     ]
    }
   ],
   "source": [
    "obs, reward, _, _ = env.step(0)\n",
    "print(obs)\n",
    "print(reward)"
   ]
  },
  {
   "cell_type": "markdown",
   "id": "10eea76e-2901-4276-a21e-ee3aa7f227ff",
   "metadata": {},
   "source": [
    "## Demo of the reward function in `CartPole-v1`\n",
    "\n",
    "<img src=\"images/reward_examples/2.png\" width=\"400\"></img>\n",
    "<img src=\"images/reward_examples/3.png\" width=\"400\"></img>"
   ]
  },
  {
   "cell_type": "code",
   "execution_count": 5,
   "id": "761335f8-6001-4e9d-b457-6c3446405886",
   "metadata": {},
   "outputs": [
    {
     "name": "stdout",
     "output_type": "stream",
     "text": [
      "Pole angle at step start: -1.9815118943994086 Reward in this step: 1.0\n",
      "Pole angle at step start: -1.9753829089133865 Reward in this step: 1.0\n",
      "Pole angle at step start: -1.6465941014009762 Reward in this step: 1.0\n",
      "Pole angle at step start: -0.9951006562956507 Reward in this step: 1.0\n",
      "Pole angle at step start: -0.018748809799087378 Reward in this step: 1.0\n",
      "Pole angle at step start: 1.2866772478336586 Reward in this step: 1.0\n",
      "Pole angle at step start: 2.9273756163276556 Reward in this step: 1.0\n",
      "Pole angle at step start: 4.911408071092779 Reward in this step: 1.0\n",
      "Pole angle at step start: 7.248533431734815 Reward in this step: 1.0\n",
      "Pole angle at step start: 9.949981079522844 Reward in this step: 1.0\n",
      "Pole angle at step start: 13.028151032757677 Reward in this step: 0.0\n",
      "Pole angle at step start: 16.496226864029968 Reward in this step: 0.0\n",
      "Pole angle at step start: 20.367690254933308 Reward in this step: 0.0\n",
      "Pole angle at step start: 24.655732323180533 Reward in this step: 0.0\n",
      "Pole angle at step start: 29.372568087077816 Reward in this step: 0.0\n",
      "Pole angle at step start: 34.52867686953644 Reward in this step: 0.0\n",
      "Pole angle at step start: 40.1320117443516 Reward in this step: 0.0\n",
      "Pole angle at step start: 46.18724132105162 Reward in this step: 0.0\n",
      "Pole angle at step start: 52.695100242326305 Reward in this step: 0.0\n",
      "Pole angle at step start: 59.65192169920443 Reward in this step: 0.0\n",
      "Pole angle at step start: 67.0493980739373 Reward in this step: 0.0\n",
      "Pole angle at step start: 74.87456220143214 Reward in this step: 0.0\n",
      "Pole angle at step start: 83.10990912258218 Reward in this step: 0.0\n",
      "Pole angle at step start: 91.73350427545114 Reward in this step: 0.0\n",
      "Pole angle at step start: 100.71887260786214 Reward in this step: 0.0\n",
      "Pole angle at step start: 110.03445756599359 Reward in this step: 0.0\n",
      "Pole angle at step start: 119.64249873248535 Reward in this step: 0.0\n",
      "Pole angle at step start: 129.49731837325137 Reward in this step: 0.0\n",
      "Pole angle at step start: 139.54324315340955 Reward in this step: 0.0\n",
      "Pole angle at step start: 149.71271121621578 Reward in this step: 0.0\n"
     ]
    },
    {
     "name": "stderr",
     "output_type": "stream",
     "text": [
      "/home/dibya/dropbox_cenvs/rl_course_python3.9/lib/python3.9/site-packages/gym/logger.py:34: UserWarning: \u001b[33mWARN: You are calling 'step()' even though this environment has already returned done = True. You should always call 'reset()' once you receive 'done = True' -- any further steps are undefined behavior.\u001b[0m\n",
      "  warnings.warn(colorize(\"%s: %s\" % (\"WARN\", msg % args), \"yellow\"))\n"
     ]
    }
   ],
   "source": [
    "import numpy as np\n",
    "\n",
    "obs = env.reset()\n",
    "for _ in range(30):\n",
    "    print(f\"Pole angle at step start: {np.degrees(obs[2])}\", end=\" \")\n",
    "    obs, reward, _, _  = env.step(0)\n",
    "    print(f\"Reward in this step: {reward}\")"
   ]
  },
  {
   "cell_type": "code",
   "execution_count": null,
   "id": "cf8162e4-a40a-4a45-8e20-cf5ab89b2a98",
   "metadata": {},
   "outputs": [],
   "source": []
  }
 ],
 "metadata": {
  "kernelspec": {
   "display_name": "Python 3 (ipykernel)",
   "language": "python",
   "name": "python3"
  },
  "language_info": {
   "codemirror_mode": {
    "name": "ipython",
    "version": 3
   },
   "file_extension": ".py",
   "mimetype": "text/x-python",
   "name": "python",
   "nbconvert_exporter": "python",
   "pygments_lexer": "ipython3",
   "version": "3.9.7"
  }
 },
 "nbformat": 4,
 "nbformat_minor": 5
}
