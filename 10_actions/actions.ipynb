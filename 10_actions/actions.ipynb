{
 "cells": [
  {
   "cell_type": "markdown",
   "id": "d387bddf-4085-4fb0-b354-f03cf880007c",
   "metadata": {},
   "source": [
    "# Actions\n",
    "\n",
    "<img src=\"images/cartpole.png\" width=\"750\"/>"
   ]
  },
  {
   "cell_type": "code",
   "execution_count": 1,
   "id": "b9b5e1cb-c15b-499a-ba98-b73497ca4d4c",
   "metadata": {},
   "outputs": [
    {
     "name": "stdout",
     "output_type": "stream",
     "text": [
      "[-0.02182618 -0.03077107 -0.03747389 -0.03904124]\n"
     ]
    }
   ],
   "source": [
    "import gym\n",
    "\n",
    "env = gym.make(\"CartPole-v1\")\n",
    "obs = env.reset()\n",
    "env.reset()\n",
    "print(obs)"
   ]
  },
  {
   "cell_type": "markdown",
   "id": "ded79417-4cf5-4ef3-96e7-bdc405333bc8",
   "metadata": {},
   "source": [
    "<img src=\"images/api/1.png\" width=\"500\"/>"
   ]
  },
  {
   "cell_type": "markdown",
   "id": "3019b3d1-072f-46b1-88c1-9e9dc76b2d01",
   "metadata": {},
   "source": [
    "## The next step is to make a decision and send it to `gym`\n",
    "\n",
    "- The entity making the decision is called the **agent**.\n",
    "- The decision is called the **action**.\n",
    "\n",
    "<img src=\"images/api/2.png\" width=\"600\"/>"
   ]
  },
  {
   "cell_type": "markdown",
   "id": "21a76c77-ace8-4867-98a7-b6feb3ea3d54",
   "metadata": {},
   "source": [
    "### General nature of actions\n",
    "\n",
    "1. **Continuous** or **discrete**?\n",
    "2. **Scalar**, **vector** or **tensor**?\n",
    "3. **Range** of the elements?\n",
    "4. **Python datatype** of elements?"
   ]
  },
  {
   "cell_type": "code",
   "execution_count": 2,
   "id": "8c4c2027-0f99-4063-9fc8-f3dec553fb30",
   "metadata": {},
   "outputs": [
    {
     "data": {
      "text/plain": [
       "Discrete(2)"
      ]
     },
     "execution_count": 2,
     "metadata": {},
     "output_type": "execute_result"
    }
   ],
   "source": [
    "env.action_space"
   ]
  },
  {
   "cell_type": "markdown",
   "id": "0640ecc3-8b29-4419-a317-22457a3c7bab",
   "metadata": {},
   "source": [
    "- `Discrete` is a `gym` data type representing a **sequence of integers**, starting from zero.\n",
    "\n",
    "| Question | Answer |\n",
    "| --- | --- |\n",
    "| continous or discrete? | `Discrete` $\\implies$ discrete |\n",
    "| scalar, vector or tensor? | `Discrete` $\\implies$ integer $\\implies$ scalar |\n",
    "| range of elements | `Discrete(2)` $\\implies$ allowed values: `0` and `1` |\n",
    "| python datatype of elements? | `int` |"
   ]
  },
  {
   "cell_type": "markdown",
   "id": "8e3b555e-d90c-4ab5-8872-d6e0116a95b2",
   "metadata": {},
   "source": [
    "### Meaning of action choices\n",
    "\n",
    "Search in the documentation\n",
    "\n",
    "1. [Environment page in Gym's website](https://gym.openai.com/envs/CartPole-v1)\n",
    "    - This has been replaced by the [new documentation site](https://www.gymlibrary.ml/environments/classic_control/cart_pole/)\n",
    "2. [Wiki in Gym's GitHub repo](https://github.com/openai/gym/wiki/CartPole-v0)\n",
    "    - This is now old and probably unmaintained. The latest information is [here]( https://www.gymlibrary.ml/environments/classic_control/cart_pole/)\n",
    "3. [Environment source code](https://github.com/openai/gym/blob/master/gym/envs/classic_control/cartpole.py)\n",
    "4. [Research paper linked in the environment page in Gym's website](https://gym.openai.com/envs/CartPole-v1/#barto83)\n",
    "    - This has been replaced by https://www.gymlibrary.ml/environments/classic_control/cart_pole/#description"
   ]
  },
  {
   "cell_type": "markdown",
   "id": "26d71a4a-5811-4242-89b5-29fc6f642e5a",
   "metadata": {},
   "source": [
    "### Sending an action to `gym` with `env.step()`\n",
    "\n",
    "- Accepts one argument, which must be a valid action"
   ]
  },
  {
   "cell_type": "code",
   "execution_count": 4,
   "id": "d5e148bf-ccf0-4628-aec7-27aa44924be1",
   "metadata": {},
   "outputs": [
    {
     "name": "stdout",
     "output_type": "stream",
     "text": [
      "[-0.01667347 -0.42041793  0.05241162  0.61282417]\n"
     ]
    }
   ],
   "source": [
    "new_obs, _, _, _ = env.step(0)\n",
    "print(new_obs)"
   ]
  },
  {
   "cell_type": "markdown",
   "id": "545596df-9940-4640-a6f4-22e1c10546b5",
   "metadata": {},
   "source": [
    "<img src=\"images/api/3.png\" width=\"600\"/>"
   ]
  },
  {
   "cell_type": "markdown",
   "id": "09b3ae94-630e-4be5-8537-cdadd4832210",
   "metadata": {},
   "source": [
    "### Sending another action `1`: push cart to the right"
   ]
  },
  {
   "cell_type": "code",
   "execution_count": 5,
   "id": "67764109-ff9d-4d69-8df5-5dd334f5cacd",
   "metadata": {},
   "outputs": [
    {
     "data": {
      "text/plain": [
       "(array([-0.02508183, -0.22606609,  0.0646681 ,  0.3370987 ]), 1.0, False, {})"
      ]
     },
     "execution_count": 5,
     "metadata": {},
     "output_type": "execute_result"
    }
   ],
   "source": [
    "env.step(1)"
   ]
  },
  {
   "cell_type": "markdown",
   "id": "3a10ddcf-218c-4ecc-ab06-12a0d18db844",
   "metadata": {},
   "source": [
    "### Sending an illegal action `2` leads to error"
   ]
  },
  {
   "cell_type": "code",
   "execution_count": 6,
   "id": "4bb00a1c-9e4d-4e4b-97e8-4e9b0cffd4bd",
   "metadata": {},
   "outputs": [
    {
     "ename": "AssertionError",
     "evalue": "2 (<class 'int'>) invalid",
     "output_type": "error",
     "traceback": [
      "\u001b[0;31m---------------------------------------------------------------------------\u001b[0m",
      "\u001b[0;31mAssertionError\u001b[0m                            Traceback (most recent call last)",
      "\u001b[0;32m/tmp/ipykernel_7944/2226955078.py\u001b[0m in \u001b[0;36m<module>\u001b[0;34m\u001b[0m\n\u001b[0;32m----> 1\u001b[0;31m \u001b[0menv\u001b[0m\u001b[0;34m.\u001b[0m\u001b[0mstep\u001b[0m\u001b[0;34m(\u001b[0m\u001b[0;36m2\u001b[0m\u001b[0;34m)\u001b[0m\u001b[0;34m\u001b[0m\u001b[0;34m\u001b[0m\u001b[0m\n\u001b[0m",
      "\u001b[0;32m~/dropbox_cenvs/rl_course_python3.9/lib/python3.9/site-packages/gym/wrappers/time_limit.py\u001b[0m in \u001b[0;36mstep\u001b[0;34m(self, action)\u001b[0m\n\u001b[1;32m     16\u001b[0m             \u001b[0mself\u001b[0m\u001b[0;34m.\u001b[0m\u001b[0m_elapsed_steps\u001b[0m \u001b[0;32mis\u001b[0m \u001b[0;32mnot\u001b[0m \u001b[0;32mNone\u001b[0m\u001b[0;34m\u001b[0m\u001b[0;34m\u001b[0m\u001b[0m\n\u001b[1;32m     17\u001b[0m         ), \"Cannot call env.step() before calling reset()\"\n\u001b[0;32m---> 18\u001b[0;31m         \u001b[0mobservation\u001b[0m\u001b[0;34m,\u001b[0m \u001b[0mreward\u001b[0m\u001b[0;34m,\u001b[0m \u001b[0mdone\u001b[0m\u001b[0;34m,\u001b[0m \u001b[0minfo\u001b[0m \u001b[0;34m=\u001b[0m \u001b[0mself\u001b[0m\u001b[0;34m.\u001b[0m\u001b[0menv\u001b[0m\u001b[0;34m.\u001b[0m\u001b[0mstep\u001b[0m\u001b[0;34m(\u001b[0m\u001b[0maction\u001b[0m\u001b[0;34m)\u001b[0m\u001b[0;34m\u001b[0m\u001b[0;34m\u001b[0m\u001b[0m\n\u001b[0m\u001b[1;32m     19\u001b[0m         \u001b[0mself\u001b[0m\u001b[0;34m.\u001b[0m\u001b[0m_elapsed_steps\u001b[0m \u001b[0;34m+=\u001b[0m \u001b[0;36m1\u001b[0m\u001b[0;34m\u001b[0m\u001b[0;34m\u001b[0m\u001b[0m\n\u001b[1;32m     20\u001b[0m         \u001b[0;32mif\u001b[0m \u001b[0mself\u001b[0m\u001b[0;34m.\u001b[0m\u001b[0m_elapsed_steps\u001b[0m \u001b[0;34m>=\u001b[0m \u001b[0mself\u001b[0m\u001b[0;34m.\u001b[0m\u001b[0m_max_episode_steps\u001b[0m\u001b[0;34m:\u001b[0m\u001b[0;34m\u001b[0m\u001b[0;34m\u001b[0m\u001b[0m\n",
      "\u001b[0;32m~/dropbox_cenvs/rl_course_python3.9/lib/python3.9/site-packages/gym/envs/classic_control/cartpole.py\u001b[0m in \u001b[0;36mstep\u001b[0;34m(self, action)\u001b[0m\n\u001b[1;32m    103\u001b[0m     \u001b[0;32mdef\u001b[0m \u001b[0mstep\u001b[0m\u001b[0;34m(\u001b[0m\u001b[0mself\u001b[0m\u001b[0;34m,\u001b[0m \u001b[0maction\u001b[0m\u001b[0;34m)\u001b[0m\u001b[0;34m:\u001b[0m\u001b[0;34m\u001b[0m\u001b[0;34m\u001b[0m\u001b[0m\n\u001b[1;32m    104\u001b[0m         \u001b[0merr_msg\u001b[0m \u001b[0;34m=\u001b[0m \u001b[0;34m\"%r (%s) invalid\"\u001b[0m \u001b[0;34m%\u001b[0m \u001b[0;34m(\u001b[0m\u001b[0maction\u001b[0m\u001b[0;34m,\u001b[0m \u001b[0mtype\u001b[0m\u001b[0;34m(\u001b[0m\u001b[0maction\u001b[0m\u001b[0;34m)\u001b[0m\u001b[0;34m)\u001b[0m\u001b[0;34m\u001b[0m\u001b[0;34m\u001b[0m\u001b[0m\n\u001b[0;32m--> 105\u001b[0;31m         \u001b[0;32massert\u001b[0m \u001b[0mself\u001b[0m\u001b[0;34m.\u001b[0m\u001b[0maction_space\u001b[0m\u001b[0;34m.\u001b[0m\u001b[0mcontains\u001b[0m\u001b[0;34m(\u001b[0m\u001b[0maction\u001b[0m\u001b[0;34m)\u001b[0m\u001b[0;34m,\u001b[0m \u001b[0merr_msg\u001b[0m\u001b[0;34m\u001b[0m\u001b[0;34m\u001b[0m\u001b[0m\n\u001b[0m\u001b[1;32m    106\u001b[0m \u001b[0;34m\u001b[0m\u001b[0m\n\u001b[1;32m    107\u001b[0m         \u001b[0mx\u001b[0m\u001b[0;34m,\u001b[0m \u001b[0mx_dot\u001b[0m\u001b[0;34m,\u001b[0m \u001b[0mtheta\u001b[0m\u001b[0;34m,\u001b[0m \u001b[0mtheta_dot\u001b[0m \u001b[0;34m=\u001b[0m \u001b[0mself\u001b[0m\u001b[0;34m.\u001b[0m\u001b[0mstate\u001b[0m\u001b[0;34m\u001b[0m\u001b[0;34m\u001b[0m\u001b[0m\n",
      "\u001b[0;31mAssertionError\u001b[0m: 2 (<class 'int'>) invalid"
     ]
    }
   ],
   "source": [
    "env.step(2)"
   ]
  },
  {
   "cell_type": "markdown",
   "id": "0367eadf-ef99-4977-b60c-5772dda4a122",
   "metadata": {},
   "source": [
    "## Seeing the simulation progress visually"
   ]
  },
  {
   "cell_type": "markdown",
   "id": "e2131dac-2721-4d24-8d43-893137ba9938",
   "metadata": {},
   "source": [
    "### Taking many actions in a loop\n",
    "\n",
    "- `reset()` the env\n",
    "- take action `0` in a loop (push cart to the left)\n",
    "- call `render()` after every step"
   ]
  },
  {
   "cell_type": "code",
   "execution_count": 11,
   "id": "23a38ca5-7c3d-4206-a839-f2b3a9824688",
   "metadata": {},
   "outputs": [
    {
     "name": "stdout",
     "output_type": "stream",
     "text": [
      "[-0.02388159  0.04795998  0.03902257 -0.03665129]\n",
      "[-0.02292239 -0.1476992   0.03828955  0.26808378]\n",
      "[-0.02587638 -0.34334609  0.04365122  0.57259338]\n",
      "[-0.0327433  -0.53905204  0.05510309  0.87870206]\n",
      "[-0.04352434 -0.7348777   0.07267713  1.18818683]\n",
      "[-0.05822189 -0.93086265  0.09644087  1.50273648]\n",
      "[-0.07683915 -1.12701393  0.1264956   1.82390586]\n",
      "[-0.09937942 -1.32329269  0.16297371  2.15306224]\n",
      "[-0.12584528 -1.5195988   0.20603496  2.49132202]\n",
      "[-0.15623725 -1.71575318  0.2558614   2.83947714]\n",
      "[-0.19055232 -1.91147851  0.31265094  3.19791276]\n",
      "[-0.22878189 -2.10637979  0.3766092   3.56652105]\n",
      "[-0.27090948 -2.29992702  0.44793962  3.94461956]\n",
      "[-0.31690802 -2.49144407  0.52683201  4.33088707]\n",
      "[-0.36673691 -2.68010847  0.61344975  4.72333298]\n",
      "[-0.42033908 -2.86496804  0.70791641  5.11931665]\n",
      "[-0.47763844 -3.0449797   0.81030274  5.51562806]\n",
      "[-0.53853803 -3.21907393  0.92061531  5.90862913]\n",
      "[-0.60291951 -3.38624489  1.03878789  6.29443608]\n",
      "[-0.67064441 -3.5456619   1.16467661  6.66910239]\n",
      "[-0.74155764 -3.69679334  1.29805866  7.0287448 ]\n",
      "[-0.81549351 -3.83953242  1.43863355  7.3695519 ]\n",
      "[-0.89228416 -3.97431344  1.58602459  7.68762982]\n",
      "[-0.97177043 -4.10220944  1.73977719  7.97867439]\n",
      "[-1.05381462 -4.22500121  1.89935068  8.23751058]\n",
      "[-1.13831464 -4.34520315  2.06410089  8.45760521]\n",
      "[-1.2252187  -4.46601966  2.23325299  8.63073542]\n",
      "[-1.3145391  -4.59119113  2.4058677   8.74706847]\n",
      "[-1.40636292 -4.72468212  2.58080907  8.79593495]\n",
      "[-1.50085656 -4.8701884   2.75672777  8.76746831]\n"
     ]
    }
   ],
   "source": [
    "obs = env.reset()\n",
    "for _ in range(30):\n",
    "    print(obs)\n",
    "    obs, _, _, _ = env.step(0)\n",
    "    env.render()"
   ]
  },
  {
   "cell_type": "code",
   "execution_count": null,
   "id": "b1a6e32e-8f26-4855-aac8-379be05ba0c7",
   "metadata": {},
   "outputs": [],
   "source": []
  }
 ],
 "metadata": {
  "kernelspec": {
   "display_name": "Python 3 (ipykernel)",
   "language": "python",
   "name": "python3"
  },
  "language_info": {
   "codemirror_mode": {
    "name": "ipython",
    "version": 3
   },
   "file_extension": ".py",
   "mimetype": "text/x-python",
   "name": "python",
   "nbconvert_exporter": "python",
   "pygments_lexer": "ipython3",
   "version": "3.9.9"
  }
 },
 "nbformat": 4,
 "nbformat_minor": 5
}
