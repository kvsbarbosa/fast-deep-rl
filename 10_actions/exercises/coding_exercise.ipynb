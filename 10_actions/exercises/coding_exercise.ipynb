{
 "cells": [
  {
   "cell_type": "markdown",
   "id": "fd114521-62a4-4dda-a2f9-7909aeacf26f",
   "metadata": {},
   "source": [
    "# Taking actions in the `BipedalWalker-v3` environment\n",
    "\n",
    "In this exercise, you will take actions in the `BipedalWalker-v3` environment.\n",
    "\n",
    "Ready? Let's do it."
   ]
  },
  {
   "cell_type": "code",
   "execution_count": null,
   "id": "14734570-a90d-4323-9946-9ed7b868a205",
   "metadata": {},
   "outputs": [],
   "source": [
    "# Run this cell first\n",
    "import gym\n",
    "\n",
    "env = gym.make(\"BipedalWalker-v3\")\n",
    "obs = env.reset()"
   ]
  },
  {
   "cell_type": "code",
   "execution_count": null,
   "id": "f13ab62a-8e6a-499f-92ca-744ac6199943",
   "metadata": {},
   "outputs": [],
   "source": [
    "# Print out the action space"
   ]
  },
  {
   "cell_type": "markdown",
   "id": "2e71ee1b-93f1-411e-9dde-8164df75a805",
   "metadata": {},
   "source": [
    "## Fill in the blanks\n",
    "\n",
    "1. Based on the value of the action space, I predict that the action is an array with ____ elements. (fill in with a number)\n",
    "2. Based on the data type of the action space, the elements take ____ values. (fill in \"continuous\" or \"discrete\")  \n",
    "2. The elements can take values between ____ and ____. (fill in with numbers)"
   ]
  },
  {
   "cell_type": "markdown",
   "id": "7e56311f-0b53-4153-874a-62613e6eafce",
   "metadata": {},
   "source": [
    "Did you predict correctly? You can check that by taking an action with a random value that satisfies the above properties. "
   ]
  },
  {
   "cell_type": "code",
   "execution_count": null,
   "id": "cbd540af-a457-4a05-b661-e5ca91934148",
   "metadata": {},
   "outputs": [],
   "source": [
    "import numpy as np\n",
    "\n",
    "action = ____    # Fill in with a random action value\n",
    "new_obs, _, _, _ = ____    # Fill in with the function call that would execute that action"
   ]
  },
  {
   "cell_type": "markdown",
   "id": "b029867f-63b7-43cc-813b-4e2d9e496ef4",
   "metadata": {},
   "source": [
    "## Taking many actions in a loop\n",
    "\n",
    "Let's take this action 200 times. You need to write a loop that executes the action 200 times.\n",
    "\n",
    "Some tips:\n",
    "\n",
    "- Make sure to call `env.reset()` in the cell before you start the loop. That way, it will start from the initial state every time the cell is run.  \n",
    "- Make sure to call `env.render()` inside the loop (after taking an action) to visualize what's going on.\n",
    "- Make sure to call `env.close()` at the end of the cell to close the graphical window."
   ]
  },
  {
   "cell_type": "code",
   "execution_count": null,
   "id": "7edbc3f2-391e-4cc7-b888-c352f7abb55c",
   "metadata": {},
   "outputs": [],
   "source": [
    "# Your code goes here"
   ]
  },
  {
   "cell_type": "markdown",
   "id": "29ab217f-bb39-4e99-beb8-6381f4134da3",
   "metadata": {},
   "source": [
    "If you succeeded in getting that to work, you will see the robot struggling to make any progress. It's most likely falling over in the stupidest way (this depends on the action you chose).\n",
    "\n",
    "But hey! At least it's doing something. The simulation has come alive. Great job getting so far! \n",
    "\n",
    "Now the robot just needs to learn how to take the *right* actions, instead of the taking the same random actions over and over again. That's what Reinforcement Learning is for.\n",
    "\n",
    "If you are feeling curious, you can set the action to different values and try running the loop again to see how the robot behaves."
   ]
  }
 ],
 "metadata": {
  "kernelspec": {
   "display_name": "Python 3 (ipykernel)",
   "language": "python",
   "name": "python3"
  },
  "language_info": {
   "codemirror_mode": {
    "name": "ipython",
    "version": 3
   },
   "file_extension": ".py",
   "mimetype": "text/x-python",
   "name": "python",
   "nbconvert_exporter": "python",
   "pygments_lexer": "ipython3",
   "version": "3.9.9"
  }
 },
 "nbformat": 4,
 "nbformat_minor": 5
}
