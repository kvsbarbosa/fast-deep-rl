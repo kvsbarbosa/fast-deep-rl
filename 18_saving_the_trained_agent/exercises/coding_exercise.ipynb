{
 "cells": [
  {
   "cell_type": "markdown",
   "id": "2d192556-0e8b-4ee7-aff7-f161a8c67a2c",
   "metadata": {},
   "source": [
    "# Save the trained robot\n",
    "\n",
    "Run the same experiment (using PPO in the `BipedalWalker-v3` environment) again. But this time, store the results in the relative path `bipedal_walker_v3` and save the agent at every evaluation.  \n",
    "\n",
    "Please stop any previous experiments (if they are still running) before running the cell below."
   ]
  },
  {
   "cell_type": "code",
   "execution_count": null,
   "id": "99e03d10-671e-4b98-85ff-f8669ae3a6ff",
   "metadata": {},
   "outputs": [],
   "source": [
    "import ray\n",
    "\n",
    "ray.init()\n",
    "\n",
    "from ray import tune\n",
    "\n",
    "# Fill in the blanks with the correct settings and run the cell\n",
    "tune.run(\"PPO\",\n",
    "         config={\"env\": \"BipedalWalker-v3\",\n",
    "                 \"evaluation_interval\": 100,\n",
    "                 \"evaluation_num_episodes\": 100\n",
    "                 },\n",
    "         ____=____,    # Save results to the relative path bipedal_walker_v3\n",
    "         ____=____,    # Save the agent at every evaluation\n",
    "         )"
   ]
  },
  {
   "cell_type": "markdown",
   "id": "237fb4b1-2985-47b4-a15c-bc9baaa316cc",
   "metadata": {},
   "source": [
    "Open `tensorboard` in a terminal to visualize the results. Stop the experiment once the evaluation performance has reached 250 cumulative rewards per episode.\n",
    "\n",
    "A performance of > 250 typically means that the robot has learned how to walk! \n",
    "\n",
    "I am sure you want to see the robot walking. In the next lesson, we will learn how to see the walking robot in action."
   ]
  }
 ],
 "metadata": {
  "kernelspec": {
   "display_name": "Python 3 (ipykernel)",
   "language": "python",
   "name": "python3"
  },
  "language_info": {
   "codemirror_mode": {
    "name": "ipython",
    "version": 3
   },
   "file_extension": ".py",
   "mimetype": "text/x-python",
   "name": "python",
   "nbconvert_exporter": "python",
   "pygments_lexer": "ipython3",
   "version": "3.9.9"
  }
 },
 "nbformat": 4,
 "nbformat_minor": 5
}
