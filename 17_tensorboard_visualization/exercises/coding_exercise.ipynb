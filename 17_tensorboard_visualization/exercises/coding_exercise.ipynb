{
 "cells": [
  {
   "cell_type": "markdown",
   "id": "199c9940-7c8f-4b12-a851-664320632ee6",
   "metadata": {},
   "source": [
    "# Visualize the results from the running `BipedalWalker-v3` experiment in real time\n",
    "\n",
    "The terminal output of the experiment you ran in the last coding exercise should include the directory path where the results are being saved.\n",
    "\n",
    "Here's an example of where to find that directory path.\n",
    "\n",
    "![directory_path](directory.png)\n",
    "\n",
    "Run the command to visualize the results in that directory using `tensorboard`. Terminal commands can be run from Jupyter cells too. You only need to prepend them with a `!`. "
   ]
  },
  {
   "cell_type": "code",
   "execution_count": null,
   "id": "abb0e235-d94a-4fae-b4c9-a29b7ce4b22a",
   "metadata": {},
   "outputs": [],
   "source": [
    "# Run the command to visualize results using tensorboard\n",
    "!____"
   ]
  },
  {
   "cell_type": "markdown",
   "id": "0fc92def-a3d8-4fca-8eae-687c1eb56110",
   "metadata": {},
   "source": [
    "If you ran the correct command, the output should include a local URL where `tensorboard` can be reached.\n",
    "\n",
    "Go to that URL and have some fun looking at real time plots of how the robot is learning! \n",
    "\n",
    "The mean episode reward during evaluation should be rising like this.\n",
    "\n",
    "![bw_tb](bw_tb.png)"
   ]
  }
 ],
 "metadata": {
  "kernelspec": {
   "display_name": "Python 3 (ipykernel)",
   "language": "python",
   "name": "python3"
  },
  "language_info": {
   "codemirror_mode": {
    "name": "ipython",
    "version": 3
   },
   "file_extension": ".py",
   "mimetype": "text/x-python",
   "name": "python",
   "nbconvert_exporter": "python",
   "pygments_lexer": "ipython3",
   "version": "3.9.9"
  }
 },
 "nbformat": 4,
 "nbformat_minor": 5
}
