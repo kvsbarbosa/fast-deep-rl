{
 "cells": [
  {
   "cell_type": "markdown",
   "id": "4b850cb2-9dcd-4c58-88c7-2536416817d2",
   "metadata": {
    "tags": []
   },
   "source": [
    "# Teach the robot in the `BipedalWalker-v3` environment how to walk using `rllib`'s PPO implementation\n",
    "\n",
    "Finally, the time has come to teach the robot how to walk. \n",
    "\n",
    "Are you ready? Let's go!\n",
    "\n",
    "Before starting this exercise, first check your `ray` version using the following code"
   ]
  },
  {
   "cell_type": "code",
   "execution_count": null,
   "id": "340b3a1c-f83c-4a50-a1e9-b9273bc0f186",
   "metadata": {
    "tags": []
   },
   "outputs": [],
   "source": [
    "import ray\n",
    "ray.__version__"
   ]
  },
  {
   "cell_type": "markdown",
   "id": "2cab45b0-7037-4662-bfb3-a688d644f169",
   "metadata": {},
   "source": [
    "If the version is greater than `1.11.0`, please downgrade the package to `1.11.0` first.\n",
    "\n",
    "You can do that by running the following code in the terminal.\n",
    "\n",
    "```\n",
    "pip uninstall ray[rllib]\n",
    "pip install ray[rllib]==1.11.0\n",
    "```\n",
    "\n",
    "We are doing this because version `1.12.0` has a bug which prevents `BipedalWalker-v3` from learning."
   ]
  },
  {
   "cell_type": "markdown",
   "id": "66cf60ce-2536-4d74-b9c7-a089543b7336",
   "metadata": {},
   "source": [
    "Next, import and initialize `ray`."
   ]
  },
  {
   "cell_type": "code",
   "execution_count": null,
   "id": "b732c65d-ddbf-4cd5-a27e-8826f4d439c0",
   "metadata": {},
   "outputs": [],
   "source": [
    "# Import and initialize ray in this cell"
   ]
  },
  {
   "cell_type": "markdown",
   "id": "4735fb8c-cffe-451a-a994-32aac0810238",
   "metadata": {},
   "source": [
    "To teach the robot how to walk, you simply need to run an experiment (using `ray`'s experiment runner) with the following configurations\n",
    "\n",
    "- Set the algorithm to \"PPO\"\n",
    "- Set the environment to \"BipedalWalker-v3\"\n",
    "\n",
    "Those are the required configurations. In addition to those, also set the following optional configurations.\n",
    "\n",
    "- Set the number of training iterations between evaluations to 100\n",
    "- Set the number of episodes used for each evaluation to 100\n",
    "\n",
    "**WARNING: The `BipedalWalker-v3` environment is much harder than `CartPole-v1`. It's going to take many timesteps (~ 5 million timesteps) for the robot to reach acceptable walking performance (~ 250 cumulative rewards per episode). You may have to keep your computer running for ~ 4 hours, when using tensorflow on CPU.**"
   ]
  },
  {
   "cell_type": "code",
   "execution_count": null,
   "id": "e84c0361-3189-40bf-b6c5-3605de24c5b1",
   "metadata": {},
   "outputs": [],
   "source": [
    "# Import the experiment runner below\n",
    "____\n",
    "\n",
    "# Run the experiment by filling the blank with the required configuration\n",
    "tune.run(____)"
   ]
  },
  {
   "cell_type": "markdown",
   "id": "b0732355-ce71-4b72-98b8-73230fd224f9",
   "metadata": {},
   "source": [
    "If the experiment is running and producing the expected output (like we saw in `CartPole-v1`), then well done! The robot has started learning. \n",
    "\n",
    "How can we see if it's learning? You can move on to the next video, where we will discuss how to visualize the results from a running experiment in real time."
   ]
  }
 ],
 "metadata": {
  "kernelspec": {
   "display_name": "Python 3 (ipykernel)",
   "language": "python",
   "name": "python3"
  },
  "language_info": {
   "codemirror_mode": {
    "name": "ipython",
    "version": 3
   },
   "file_extension": ".py",
   "mimetype": "text/x-python",
   "name": "python",
   "nbconvert_exporter": "python",
   "pygments_lexer": "ipython3",
   "version": "3.9.9"
  }
 },
 "nbformat": 4,
 "nbformat_minor": 5
}
